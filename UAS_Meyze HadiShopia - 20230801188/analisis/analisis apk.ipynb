{
 "cells": [
  {
   "cell_type": "markdown",
   "metadata": {},
   "source": [
    "Analisis Aplikasi: Forum Diskusi dengan Sistem Voting dan Komentar"
   ]
  },
  {
   "cell_type": "markdown",
   "metadata": {},
   "source": [
    "Aplikasi ini adalah sebuah forum diskusi yang memungkinkan pengguna untuk membuat thread (topik diskusi), memberikan komentar pada thread, serta memberikan voting (upvote/downvote) pada setiap thread. Selain itu, setiap pengguna dapat memiliki peran tertentu, seperti admin atau user, yang dapat mempengaruhi hak akses mereka di dalam aplikasi.\n",
    "\n",
    "Berikut adalah analisis fungsional dari aplikasi yang dibangun berdasarkan kode yang diberikan:"
   ]
  },
  {
   "cell_type": "markdown",
   "metadata": {},
   "source": [
    "1. Model dan Relasi"
   ]
  },
  {
   "cell_type": "markdown",
   "metadata": {},
   "source": [
    "a. User (Pengguna)\n",
    "Model User adalah representasi dari pengguna dalam sistem. Pengguna dapat memiliki beberapa peran seperti admin atau user yang didefinisikan dalam kolom role di tabel users. Admin memiliki hak akses lebih tinggi untuk mengelola forum, sedangkan user berinteraksi dengan konten seperti thread, komentar, dan voting.\n",
    "\n",
    "Relasi:\n",
    "\n",
    "- Thread: Satu pengguna dapat membuat banyak thread.\n",
    "- Comment: Satu pengguna dapat mengomentari banyak thread.\n",
    "- Vote: Satu pengguna dapat memberi vote pada banyak thread."
   ]
  },
  {
   "cell_type": "markdown",
   "metadata": {},
   "source": [
    "b. Thread (Topik Diskusi)"
   ]
  },
  {
   "cell_type": "markdown",
   "metadata": {},
   "source": [
    "\n",
    "Model Thread merepresentasikan sebuah topik diskusi yang dibuat oleh pengguna. Setiap thread memiliki sebuah title (judul) dan content (konten) yang menjelaskan topik tersebut. Thread dapat dikomentari oleh pengguna lain dan dapat diberi voting.\n",
    "\n",
    "Relasi:\n",
    "\n",
    "- User: Setiap thread dibuat oleh satu pengguna.\n",
    "- Comment: Setiap thread dapat memiliki banyak komentar.\n",
    "- Vote: Setiap thread dapat memiliki banyak voting (upvote/downvote)."
   ]
  },
  {
   "cell_type": "markdown",
   "metadata": {},
   "source": [
    "c. Comment (Komentar)"
   ]
  },
  {
   "cell_type": "markdown",
   "metadata": {},
   "source": [
    "\n",
    "Model Comment digunakan untuk menyimpan komentar-komentar yang ditambahkan oleh pengguna ke thread. Setiap komentar akan memiliki konten yang menjelaskan pendapat atau tanggapan terhadap thread tertentu.\n",
    "\n",
    "Relasi:\n",
    "\n",
    "- User: Setiap komentar dibuat oleh satu pengguna.\n",
    "- Thread: Setiap komentar terkait dengan satu thread."
   ]
  },
  {
   "cell_type": "markdown",
   "metadata": {},
   "source": [
    "d. Vote (Voting)"
   ]
  },
  {
   "cell_type": "markdown",
   "metadata": {},
   "source": [
    "\n",
    "Model Vote digunakan untuk mencatat upvote atau downvote yang diberikan oleh pengguna terhadap thread tertentu. Dengan menggunakan enum type, aplikasi ini membedakan jenis vote menjadi upvote dan downvote.\n",
    "\n",
    "Relasi:\n",
    "\n",
    "- User: Setiap vote diberikan oleh satu pengguna.\n",
    "- Thread: Setiap vote terkait dengan satu thread.\n"
   ]
  },
  {
   "cell_type": "markdown",
   "metadata": {},
   "source": [
    "2. Database Migration"
   ]
  },
  {
   "cell_type": "markdown",
   "metadata": {},
   "source": [
    "Migrasi ini digunakan untuk mendefinisikan struktur tabel di dalam database. Setiap tabel dihubungkan dengan relasi antara entitas yang ada di dalam aplikasi.\n",
    "\n",
    "- Tabel users: Tabel ini menyimpan data pengguna, termasuk nama, email, password, dan peran pengguna (admin atau user).\n",
    "-Kolom role menggunakan enum dengan dua pilihan: admin dan user.\n",
    "\n",
    "- Tabel threads: Tabel ini menyimpan data thread yang dibuat oleh pengguna. Setiap thread memiliki judul dan konten.\n",
    "-Tabel ini terhubung dengan pengguna melalui kolom user_id yang menjadi foreign key yang mengarah ke tabel users.\n",
    "\n",
    "- Tabel comments: Tabel ini menyimpan komentar pada setiap thread. Setiap komentar terhubung dengan pengguna yang membuatnya serta thread tempat komentar tersebut ditambahkan.\n",
    "-Tabel ini menggunakan foreign key user_id (mengarah ke users) dan thread_id (mengarah ke threads).\n",
    "\n",
    "Tabel votes: Tabel ini menyimpan informasi voting pada thread, yang terdiri dari jenis voting (upvote atau downvote) yang diberikan oleh pengguna tertentu pada thread.\n",
    "-Tabel ini juga menggunakan foreign key user_id dan thread_id.\n",
    "\n",
    "\n",
    "\n",
    "\n"
   ]
  },
  {
   "cell_type": "markdown",
   "metadata": {},
   "source": [
    "3. Seeder"
   ]
  },
  {
   "cell_type": "markdown",
   "metadata": {},
   "source": [
    "\n",
    "Seeder digunakan untuk mengisi database dengan data awal, baik untuk keperluan pengembangan maupun pengujian aplikasi.\n",
    "\n",
    "- Seeder untuk users:\n",
    "-Pada DatabaseSeeder, admin pengguna dibuat terlebih dahulu dengan nama Admin dan email admin@example.com, serta password terenkripsi.\n",
    "\n",
    "-Selain itu, juga dibuat data pengguna tambahan menggunakan factory sebanyak 10 orang pengguna dengan password terenkripsi."
   ]
  },
  {
   "cell_type": "markdown",
   "metadata": {},
   "source": [
    "4. Fitur Aplikasi"
   ]
  },
  {
   "cell_type": "markdown",
   "metadata": {},
   "source": [
    "\n",
    "a. Pembuatan Thread\n",
    "- Pengguna dapat membuat thread yang berisi judul dan konten untuk memulai diskusi.\n",
    "- Setiap thread terkait dengan pengguna yang membuatnya melalui relasi user_id.\n",
    "\n",
    "b. Komentar pada Thread\n",
    "- Pengguna dapat mengomentari thread yang telah dibuat oleh pengguna lain.\n",
    "- Setiap komentar terkait dengan user dan thread tertentu, dan menyimpan teks komentar yang diberikan.\n",
    "\n",
    "c. Voting pada Thread\n",
    "- Pengguna dapat memberikan voting berupa upvote atau downvote pada setiap thread.\n",
    "- Voting ini membantu memberikan feedback pada kualitas atau relevansi thread yang dibahas.\n",
    "\n",
    "d. Role Admin dan User\n",
    "- Admin: Admin memiliki kontrol penuh terhadap aplikasi, seperti manajemen pengguna dan pengaturan lainnya.\n",
    "- User: Pengguna dapat membuat thread, memberikan komentar, dan memberikan vote pada thread, namun tidak memiliki akses untuk mengelola aplikasi.\n"
   ]
  },
  {
   "cell_type": "markdown",
   "metadata": {},
   "source": [
    "5. Relasi Antar Model"
   ]
  },
  {
   "cell_type": "markdown",
   "metadata": {},
   "source": [
    "\n",
    "- User ↔ Thread: Setiap pengguna dapat membuat banyak thread, namun setiap thread hanya dibuat oleh satu pengguna.\n",
    "\n",
    "- User ↔ Comment: Setiap pengguna dapat memberikan banyak komentar pada berbagai thread, namun setiap komentar hanya dibuat oleh satu pengguna.\n",
    "\n",
    "- User ↔ Vote: Setiap pengguna dapat memberikan vote pada banyak thread, namun setiap vote hanya diberikan oleh satu pengguna pada satu thread.\n",
    "\n",
    "- Thread ↔ Comment: Setiap thread dapat memiliki banyak komentar, namun setiap komentar hanya milik satu thread.\n",
    "\n",
    "- Thread ↔ Vote: Setiap thread dapat memiliki banyak vote (baik upvote maupun downvote), namun setiap vote hanya diberikan untuk satu thread."
   ]
  },
  {
   "cell_type": "markdown",
   "metadata": {},
   "source": [
    "Kesimpulan"
   ]
  },
  {
   "cell_type": "markdown",
   "metadata": {},
   "source": [
    "\n",
    "Aplikasi ini merupakan forum diskusi yang memiliki beberapa fitur utama, seperti pembuatan thread, komentar, dan voting. Aplikasi ini dirancang dengan sistem relasi antar entitas yang jelas antara user, thread, comment, dan vote. Setiap pengguna memiliki peran (admin atau user), dengan admin memiliki hak akses lebih tinggi untuk mengelola aplikasi.\n",
    "\n",
    "Dengan menggunakan Eloquent ORM, relasi antar tabel dapat diakses dan dikelola dengan mudah, dan migrasi serta seeder memberikan kemudahan untuk mengelola struktur database dan mengisi data awal."
   ]
  }
 ],
 "metadata": {
  "language_info": {
   "name": "python"
  }
 },
 "nbformat": 4,
 "nbformat_minor": 2
}
